{
  "cells": [
    {
      "cell_type": "markdown",
      "metadata": {
        "id": "JxXIK-MUyUvp"
      },
      "source": [
        "# Endpoint externo AWS - SageMaker SDK Image Classification\n",
        "\n",
        "- Documentação: https://sagemaker.readthedocs.io/en/stable/"
      ]
    },
    {
      "cell_type": "markdown",
      "metadata": {},
      "source": [
        "O objetivo deste exercício é utilizar o endpoint para classificar os dígitos manuscritos, que foi mostrado nas aulas anteriores. Crie um novo arquivo do Google Colab (ou na sua própria máquina), carregue a imagem digit.png (ou qualquer outro dígito escrito à mão) e invoque o endpoint"
      ]
    },
    {
      "cell_type": "code",
      "execution_count": null,
      "metadata": {
        "id": "9MBKAucgyO2W"
      },
      "outputs": [],
      "source": [
        "!pip install --upgrade boto3"
      ]
    },
    {
      "cell_type": "code",
      "execution_count": null,
      "metadata": {
        "id": "uNluXTrR1toQ"
      },
      "outputs": [],
      "source": [
        "import numpy as np\n",
        "import json\n",
        "import boto3"
      ]
    },
    {
      "cell_type": "code",
      "execution_count": null,
      "metadata": {
        "id": "fRCYskwt16qq"
      },
      "outputs": [],
      "source": [
        "boto_session = boto3.Session(aws_access_key_id = ACCESS_KEY_ID',\n",
        "                             aws_secret_access_key = SECRET_ACCESS_KEY',\n",
        "                             region_name = 'us-east-1')"
      ]
    },
    {
      "cell_type": "code",
      "execution_count": null,
      "metadata": {
        "id": "xP9GQ5oP2TBS"
      },
      "outputs": [],
      "source": [
        "client = boto_session.client(service_name='sagemaker-runtime',region_name='us-east-1')"
      ]
    },
    {
      "cell_type": "code",
      "execution_count": null,
      "metadata": {
        "id": "zhGwOV0KCTUZ"
      },
      "outputs": [],
      "source": [
        "imagem = open('digit.png', 'rb').read()"
      ]
    },
    {
      "cell_type": "code",
      "execution_count": null,
      "metadata": {
        "id": "aa3Lu4uuCVMH"
      },
      "outputs": [],
      "source": [
        "# envia imagem\n",
        "resposta = client.invoke_endpoint(EndpointName='image-classification-2022-06-02-20-16-07-811',\n",
        "                                  ContentType='application/x-image',\n",
        "                                  Body=bytearray(imagem))"
      ]
    },
    {
      "cell_type": "code",
      "execution_count": null,
      "metadata": {
        "colab": {
          "base_uri": "https://localhost:8080/"
        },
        "id": "4Ay9NR9QCgaJ",
        "outputId": "7aeba346-d3ec-4ead-cabe-6fe540208e95"
      },
      "outputs": [
        {
          "data": {
            "text/plain": [
              "{'Body': <botocore.response.StreamingBody at 0x7fe97a753750>,\n",
              " 'ContentType': 'application/json',\n",
              " 'InvokedProductionVariant': 'AllTraffic',\n",
              " 'ResponseMetadata': {'HTTPHeaders': {'content-length': '231',\n",
              "   'content-type': 'application/json',\n",
              "   'date': 'Fri, 03 Jun 2022 01:35:08 GMT',\n",
              "   'x-amzn-invoked-production-variant': 'AllTraffic',\n",
              "   'x-amzn-requestid': '11f1ecd7-7eae-419a-95f8-0bd1f32a1070'},\n",
              "  'HTTPStatusCode': 200,\n",
              "  'RequestId': '11f1ecd7-7eae-419a-95f8-0bd1f32a1070',\n",
              "  'RetryAttempts': 0}}"
            ]
          },
          "execution_count": 7,
          "metadata": {},
          "output_type": "execute_result"
        }
      ],
      "source": [
        "resposta"
      ]
    },
    {
      "cell_type": "code",
      "execution_count": null,
      "metadata": {
        "colab": {
          "base_uri": "https://localhost:8080/"
        },
        "id": "Ts8MWbMNCj-K",
        "outputId": "f3f46fc9-3bcf-48d7-c265-84604a7395a8"
      },
      "outputs": [
        {
          "name": "stdout",
          "output_type": "stream",
          "text": [
            "[4.470090516406344e-06, 5.785791927337414e-06, 0.0004413248097989708, 0.998178243637085, 1.1347525287419558e-05, 0.0007091494044288993, 1.7263022527913563e-05, 2.5398750949534588e-05, 0.00046912027755752206, 0.00013797248539049178]\n"
          ]
        }
      ],
      "source": [
        "resultado = resposta['Body'].read()\n",
        "resultado = json.loads(resultado)\n",
        "print(resultado)"
      ]
    },
    {
      "cell_type": "code",
      "execution_count": null,
      "metadata": {
        "colab": {
          "base_uri": "https://localhost:8080/"
        },
        "id": "LxV08Ow4CmIi",
        "outputId": "c271e2df-baee-40dd-ab43-0f6da6d20cb5"
      },
      "outputs": [
        {
          "data": {
            "text/plain": [
              "10"
            ]
          },
          "execution_count": 9,
          "metadata": {},
          "output_type": "execute_result"
        }
      ],
      "source": [
        "len(resultado)"
      ]
    },
    {
      "cell_type": "code",
      "execution_count": null,
      "metadata": {
        "colab": {
          "base_uri": "https://localhost:8080/"
        },
        "id": "xvLkTyxuCoBp",
        "outputId": "be8f27d0-5947-44d8-a3d5-5694bd7c19da"
      },
      "outputs": [
        {
          "data": {
            "text/plain": [
              "3"
            ]
          },
          "execution_count": 10,
          "metadata": {},
          "output_type": "execute_result"
        }
      ],
      "source": [
        "probabilidade_maior = np.argmax(resultado)\n",
        "probabilidade_maior"
      ]
    },
    {
      "cell_type": "code",
      "execution_count": null,
      "metadata": {
        "id": "sOPGubMm5vTr"
      },
      "outputs": [],
      "source": []
    }
  ],
  "metadata": {
    "colab": {
      "provenance": []
    },
    "kernelspec": {
      "display_name": "Python 3",
      "name": "python3"
    },
    "language_info": {
      "name": "python"
    }
  },
  "nbformat": 4,
  "nbformat_minor": 0
}
