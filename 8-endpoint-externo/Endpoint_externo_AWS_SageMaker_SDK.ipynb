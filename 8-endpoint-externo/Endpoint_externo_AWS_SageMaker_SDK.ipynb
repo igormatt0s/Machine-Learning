{
  "cells": [
    {
      "cell_type": "markdown",
      "metadata": {
        "id": "lc7LyqI6Frpg"
      },
      "source": [
        "# Endpoint externo AWS - SageMaker SDK\n",
        "\n",
        "- Documentação: https://sagemaker.readthedocs.io/en/stable/"
      ]
    },
    {
      "cell_type": "markdown",
      "metadata": {},
      "source": [
        "notebook no google colab acessando o endpoint externo"
      ]
    },
    {
      "cell_type": "code",
      "execution_count": null,
      "metadata": {
        "id": "O0gp92RXFk8x"
      },
      "outputs": [],
      "source": [
        "!pip install --upgrade sagemaker"
      ]
    },
    {
      "cell_type": "code",
      "execution_count": null,
      "metadata": {
        "id": "fPw3VmaUGNmD"
      },
      "outputs": [],
      "source": [
        "import numpy as np\n",
        "import boto3\n",
        "import sagemaker\n",
        "from sagemaker.serializers import CSVSerializer\n",
        "from sagemaker.deserializers import JSONDeserializer"
      ]
    },
    {
      "cell_type": "code",
      "execution_count": null,
      "metadata": {
        "id": "drHSKLWSGcif"
      },
      "outputs": [],
      "source": [
        "boto_session = boto3.Session(aws_access_key_id=ACCESS_KEY_ID,\n",
        "                             aws_secret_access_key=SECRET_ACCESS_KEY,\n",
        "                             region_name = 'sa-east-1')"
      ]
    },
    {
      "cell_type": "code",
      "execution_count": null,
      "metadata": {
        "id": "_t0-FoJwG2W5"
      },
      "outputs": [],
      "source": [
        "session = sagemaker.Session(boto_session=boto_session)"
      ]
    },
    {
      "cell_type": "code",
      "execution_count": null,
      "metadata": {
        "id": "mzbdhInWG8QA"
      },
      "outputs": [],
      "source": [
        "# acessa o console e copia o endpoint que foi criado\n",
        "endpoint = 'xgboost-2022-06-02-19-12-27-668'\n",
        "previsor = sagemaker.predictor.Predictor(endpoint_name=endpoint, sagemaker_session=session)"
      ]
    },
    {
      "cell_type": "code",
      "execution_count": null,
      "metadata": {
        "id": "MNeLA7BsHSRt"
      },
      "outputs": [],
      "source": [
        "previsor.serializer = CSVSerializer()"
      ]
    },
    {
      "cell_type": "code",
      "execution_count": null,
      "metadata": {
        "id": "nmFIxeWrHXn0"
      },
      "outputs": [],
      "source": [
        "# bedrooms, bathrooms, sqft_living, sqft_lot, floors, waterfront, view, condition, grade, sqft_above, sqft_basement, yr_built,yr_renovated, zipcode, lat, long\n",
        "X_teste = np.array([3,\t1.00,\t1180,\t5650,\t1.0,\t0,\t0,\t3,\t7,\t1180,\t0,\t1955,\t0,\t98178,\t47.5112,\t-122.257])"
      ]
    },
    {
      "cell_type": "code",
      "execution_count": null,
      "metadata": {
        "colab": {
          "base_uri": "https://localhost:8080/"
        },
        "id": "lhKfMgZNHx06",
        "outputId": "21a90c11-2b95-4692-e875-726b2f901846"
      },
      "outputs": [
        {
          "data": {
            "text/plain": [
              "(16,)"
            ]
          },
          "execution_count": 8,
          "metadata": {},
          "output_type": "execute_result"
        }
      ],
      "source": [
        "X_teste.shape"
      ]
    },
    {
      "cell_type": "code",
      "execution_count": null,
      "metadata": {
        "colab": {
          "base_uri": "https://localhost:8080/"
        },
        "id": "StWyfDRLHzyH",
        "outputId": "022f559d-15fc-4c8d-c2e0-76e834ff5bcc"
      },
      "outputs": [
        {
          "data": {
            "text/plain": [
              "222887.234375"
            ]
          },
          "execution_count": 12,
          "metadata": {},
          "output_type": "execute_result"
        }
      ],
      "source": [
        "previsao = float(previsor.predict(X_teste).decode('utf-8'))\n",
        "previsao"
      ]
    },
    {
      "cell_type": "code",
      "execution_count": null,
      "metadata": {
        "id": "NTt9n7P1H5qz"
      },
      "outputs": [],
      "source": []
    }
  ],
  "metadata": {
    "colab": {
      "provenance": []
    },
    "kernelspec": {
      "display_name": "Python 3",
      "name": "python3"
    },
    "language_info": {
      "name": "python"
    }
  },
  "nbformat": 4,
  "nbformat_minor": 0
}
